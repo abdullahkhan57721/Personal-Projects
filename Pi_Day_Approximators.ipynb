{
  "nbformat": 4,
  "nbformat_minor": 0,
  "metadata": {
    "colab": {
      "provenance": [],
      "authorship_tag": "ABX9TyNIfpPDgSDg2d75EAyQZQu3",
      "include_colab_link": true
    },
    "kernelspec": {
      "name": "python3",
      "display_name": "Python 3"
    },
    "language_info": {
      "name": "python"
    }
  },
  "cells": [
    {
      "cell_type": "markdown",
      "metadata": {
        "id": "view-in-github",
        "colab_type": "text"
      },
      "source": [
        "<a href=\"https://colab.research.google.com/github/abdullahkhan57721/Personal-Projects/blob/main/Pi_Day_Approximators.ipynb\" target=\"_parent\"><img src=\"https://colab.research.google.com/assets/colab-badge.svg\" alt=\"Open In Colab\"/></a>"
      ]
    },
    {
      "cell_type": "code",
      "execution_count": null,
      "metadata": {
        "id": "88DU8CMiKf0r"
      },
      "outputs": [],
      "source": [
        "import numpy as np\n",
        "from scipy import special as sp"
      ]
    },
    {
      "cell_type": "code",
      "source": [
        "#Madhava-Liebniz Approximation\n",
        "\n",
        "def MadhavaLiebniz(n):\n",
        "  sum = 0\n",
        "  for i in range(n):\n",
        "    sum += ((-1)**i)*(1/(i+1))\n",
        "  pi = 4*sum\n",
        "  errorPercent = ((np.pi-pi)/pi)*100\n",
        "  print(str(pi) + \" to an error \" + str(errorPercent) + \"%\")"
      ],
      "metadata": {
        "id": "I7e7kMYxUpwZ"
      },
      "execution_count": null,
      "outputs": []
    },
    {
      "cell_type": "code",
      "source": [
        "#Basel Sum Limit\n",
        "\n",
        "def Basel(n):\n",
        "  sum = 0\n",
        "  for i in range(n):\n",
        "    sum += (1/(i+1))**2\n",
        "  pi = np.sqrt(6*sum)\n",
        "  errorPercent = ((np.pi-pi)/pi)*100\n",
        "  print(str(pi) + \" to an error \" + str(errorPercent) + \"%\")"
      ],
      "metadata": {
        "id": "Ovg_40NXK6pu"
      },
      "execution_count": null,
      "outputs": []
    },
    {
      "cell_type": "code",
      "source": [
        "#Newton-Euler Convergence Limit\n",
        "\n",
        "def NewtonEuler(n):\n",
        "  sum = ((sp.factorial2(2*(0)))*((1/2)**(0)))/(sp.factorial2(1))\n",
        "  for i in range(n):\n",
        "    sum += ((sp.factorial2(2*(i+1)))*((1/2)**(i+1)))/(sp.factorial2(2*(i+1)+1))\n",
        "  pi = 2*sum\n",
        "  errorPercent = ((np.pi-pi)/pi)*100\n",
        "  print(str(pi) + \" to an error \" + str(errorPercent) + \"%\")"
      ],
      "metadata": {
        "id": "kiqmT-0mOJ76"
      },
      "execution_count": null,
      "outputs": []
    },
    {
      "cell_type": "code",
      "source": [
        "#Ramanujan Approximation for Pi\n",
        "\n",
        "def Ramanujan(n):\n",
        "  sum = 1103\n",
        "  for i in range(n):\n",
        "    sum += sp.factorial(4*(i+1))*(1103+26390*(i+1))/(((sp.factorial(i+1))**4)*(396**(4*(i+1))))\n",
        "  pi = (9801/(2*np.sqrt(2)))/sum\n",
        "  errorPercent = ((np.pi-pi)/pi)*100\n",
        "  print(str(pi) + \" to an error \" + str(errorPercent) + \"%\")\n"
      ],
      "metadata": {
        "id": "yz1TFCqtd3Rm"
      },
      "execution_count": null,
      "outputs": []
    },
    {
      "cell_type": "code",
      "source": [
        "MadhavaLiebniz(10)\n",
        "Basel(10)\n",
        "NewtonEuler(10)\n",
        "Ramanujan(2)"
      ],
      "metadata": {
        "colab": {
          "base_uri": "https://localhost:8080/"
        },
        "id": "tPuIGZAFNCxr",
        "outputId": "90925781-1118-47ef-861c-2ec2096675a8"
      },
      "execution_count": null,
      "outputs": [
        {
          "output_type": "stream",
          "name": "stdout",
          "text": [
            "2.5825396825396827 to an error 21.647410679875204%\n",
            "3.04936163598207 to an error 3.02460083839874%\n",
            "3.141106021601377 to an error 0.01549237705030286%\n",
            "3.141592653589793 to an error 0.0%\n"
          ]
        }
      ]
    }
  ]
}