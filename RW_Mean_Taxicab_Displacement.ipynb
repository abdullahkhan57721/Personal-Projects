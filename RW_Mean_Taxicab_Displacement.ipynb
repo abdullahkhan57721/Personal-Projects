{
  "nbformat": 4,
  "nbformat_minor": 0,
  "metadata": {
    "colab": {
      "provenance": [],
      "authorship_tag": "ABX9TyMy9xTnwIAXm3jV45NrasAl",
      "include_colab_link": true
    },
    "kernelspec": {
      "name": "python3",
      "display_name": "Python 3"
    },
    "language_info": {
      "name": "python"
    }
  },
  "cells": [
    {
      "cell_type": "markdown",
      "metadata": {
        "id": "view-in-github",
        "colab_type": "text"
      },
      "source": [
        "<a href=\"https://colab.research.google.com/github/abdullahkhan57721/Personal-Projects/blob/main/RW_Mean_Taxicab_Displacement.ipynb\" target=\"_parent\"><img src=\"https://colab.research.google.com/assets/colab-badge.svg\" alt=\"Open In Colab\"/></a>"
      ]
    },
    {
      "cell_type": "code",
      "execution_count": null,
      "metadata": {
        "id": "AmVkQvaEqe14"
      },
      "outputs": [],
      "source": [
        "from math import comb\n",
        "\n",
        "def evenrandomwalk(n, p):\n",
        "  positive = 0\n",
        "  negative = 0\n",
        "  for i in range(int((n/2)+1)):\n",
        "    right = int((n/2)+i)\n",
        "    left = int((n/2)-i)\n",
        "    positive += 2*i*comb(n, right)*(p**right)*((1-p)**left)\n",
        "    negative += -2*i*comb(n, right)*(p**left)*((1-p)**right)\n",
        "  return(positive+negative)\n",
        "\n",
        "def oddrandomwalk(n, p):\n",
        "  positive = 0\n",
        "  negative = 0\n",
        "  for i in range(int(((n-1)/2)+1)):\n",
        "    right = int((n+(2*i)+1)/2)\n",
        "    left = n-right\n",
        "    positive += ((2*i)+1)*comb(n, right)*(p**right)*((1-p)**left)\n",
        "    negative += -1*((2*i)+1)*comb(n, right)*(p**left)*((1-p)**right)\n",
        "  return(positive+negative)"
      ]
    },
    {
      "cell_type": "code",
      "source": [
        "evenrandomwalk(100,0.65)"
      ],
      "metadata": {
        "colab": {
          "base_uri": "https://localhost:8080/"
        },
        "id": "-GJPB32xsPyM",
        "outputId": "aa328e6b-4ed6-4827-f4cd-952cf72d5296"
      },
      "execution_count": null,
      "outputs": [
        {
          "output_type": "execute_result",
          "data": {
            "text/plain": [
              "30.000000000000007"
            ]
          },
          "metadata": {},
          "execution_count": 18
        }
      ]
    },
    {
      "cell_type": "code",
      "source": [
        "oddrandomwalk(95,0.75)"
      ],
      "metadata": {
        "colab": {
          "base_uri": "https://localhost:8080/"
        },
        "id": "3E_eqaBjqzcB",
        "outputId": "b43fd3cf-4198-42b7-f0ac-17411fde596b"
      },
      "execution_count": null,
      "outputs": [
        {
          "output_type": "execute_result",
          "data": {
            "text/plain": [
              "47.500000000000014"
            ]
          },
          "metadata": {},
          "execution_count": 22
        }
      ]
    }
  ]
}