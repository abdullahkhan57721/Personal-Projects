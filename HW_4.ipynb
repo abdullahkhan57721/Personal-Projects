{
  "nbformat": 4,
  "nbformat_minor": 0,
  "metadata": {
    "colab": {
      "provenance": []
    },
    "kernelspec": {
      "name": "python3",
      "display_name": "Python 3"
    },
    "language_info": {
      "name": "python"
    }
  },
  "cells": [
    {
      "cell_type": "code",
      "execution_count": null,
      "metadata": {
        "id": "8R2x9tuzOVLR"
      },
      "outputs": [],
      "source": [
        "import numpy as np\n",
        "from numpy import random as rand\n",
        "import matplotlib.pyplot as plt"
      ]
    },
    {
      "cell_type": "code",
      "source": [
        "#Question 1(c)\n",
        "\n",
        "def IntegerStepMarkovChain(initialState, numberOfRuns, transitionMatrix):\n",
        "  returnList = [initialState]\n",
        "  numberOfStates = len(transitionMatrix)\n",
        "  currentState = initialState - 1\n",
        "  sum = initialState\n",
        "  for i in range(numberOfRuns):\n",
        "    currentState = rand.choice(numberOfStates, p= transitionMatrix[currentState])\n",
        "    returnList.append(currentState + 1)\n",
        "    sum += currentState + 1\n",
        "  return returnList\n",
        "\n",
        "transitionMatrix = [[0.5,0,0.5,0,0],[0,1,0,0,0],[0.5,0,0.5,0,0],[0,0,0,0.5,0.5],[0,0,0,0.5,0.5]]\n",
        "\n",
        "#Uncomment to run each function selectively.\n",
        "\n",
        "IntegerStepMarkovChain(1,100, transitionMatrix) #States only ever travel between 1 and 3\n",
        "#IntegerStepMarkovChain(2,100, transitionMatrix) #States only ever stay at 2\n",
        "#IntegerStepMarkovChain(3,100, transitionMatrix) #States only ever travel between 3 and 1\n",
        "#IntegerStepMarkovChain(4,100, transitionMatrix) #States only ever travel between 4 and 5\n",
        "#IntegerStepMarkovChain(5,100, transitionMatrix) #States only ever travel between 5 and 4"
      ],
      "metadata": {
        "id": "cIpeHLQlOqwi",
        "outputId": "91caf866-a107-4854-a0df-bdb98a97c7c7",
        "colab": {
          "base_uri": "https://localhost:8080/"
        }
      },
      "execution_count": null,
      "outputs": [
        {
          "output_type": "execute_result",
          "data": {
            "text/plain": [
              "[1,\n",
              " 3,\n",
              " 1,\n",
              " 3,\n",
              " 1,\n",
              " 3,\n",
              " 3,\n",
              " 1,\n",
              " 1,\n",
              " 1,\n",
              " 3,\n",
              " 1,\n",
              " 1,\n",
              " 1,\n",
              " 3,\n",
              " 1,\n",
              " 1,\n",
              " 3,\n",
              " 1,\n",
              " 1,\n",
              " 1,\n",
              " 1,\n",
              " 3,\n",
              " 1,\n",
              " 3,\n",
              " 1,\n",
              " 3,\n",
              " 3,\n",
              " 1,\n",
              " 1,\n",
              " 3,\n",
              " 3,\n",
              " 1,\n",
              " 3,\n",
              " 3,\n",
              " 3,\n",
              " 3,\n",
              " 1,\n",
              " 1,\n",
              " 3,\n",
              " 1,\n",
              " 1,\n",
              " 3,\n",
              " 3,\n",
              " 3,\n",
              " 3,\n",
              " 1,\n",
              " 1,\n",
              " 3,\n",
              " 3,\n",
              " 1,\n",
              " 1,\n",
              " 1,\n",
              " 3,\n",
              " 3,\n",
              " 1,\n",
              " 3,\n",
              " 3,\n",
              " 1,\n",
              " 1,\n",
              " 1,\n",
              " 1,\n",
              " 1,\n",
              " 3,\n",
              " 1,\n",
              " 3,\n",
              " 1,\n",
              " 1,\n",
              " 1,\n",
              " 3,\n",
              " 1,\n",
              " 3,\n",
              " 1,\n",
              " 1,\n",
              " 1,\n",
              " 1,\n",
              " 1,\n",
              " 1,\n",
              " 3,\n",
              " 1,\n",
              " 1,\n",
              " 3,\n",
              " 3,\n",
              " 3,\n",
              " 1,\n",
              " 3,\n",
              " 3,\n",
              " 1,\n",
              " 1,\n",
              " 1,\n",
              " 1,\n",
              " 3,\n",
              " 1,\n",
              " 3,\n",
              " 3,\n",
              " 3,\n",
              " 1,\n",
              " 3,\n",
              " 3,\n",
              " 1,\n",
              " 1]"
            ]
          },
          "metadata": {},
          "execution_count": 3
        }
      ]
    },
    {
      "cell_type": "code",
      "source": [
        "#Question 2(b) and 2(c)\n",
        "\n",
        "#The experiment of choosing integers in [1,10] with equal 0.1 probability is identical to the Markov Chain corresponding to a 10 by 10 one-step transition matrix with all entries as 0.1.\n",
        "transitionMatrix = [[0.1,0.1,0.1,0.1,0.1,0.1,0.1,0.1,0.1,0.1],[0.1,0.1,0.1,0.1,0.1,0.1,0.1,0.1,0.1,0.1],[0.1,0.1,0.1,0.1,0.1,0.1,0.1,0.1,0.1,0.1],[0.1,0.1,0.1,0.1,0.1,0.1,0.1,0.1,0.1,0.1],[0.1,0.1,0.1,0.1,0.1,0.1,0.1,0.1,0.1,0.1],[0.1,0.1,0.1,0.1,0.1,0.1,0.1,0.1,0.1,0.1],[0.1,0.1,0.1,0.1,0.1,0.1,0.1,0.1,0.1,0.1],[0.1,0.1,0.1,0.1,0.1,0.1,0.1,0.1,0.1,0.1],[0.1,0.1,0.1,0.1,0.1,0.1,0.1,0.1,0.1,0.1],[0.1,0.1,0.1,0.1,0.1,0.1,0.1,0.1,0.1,0.1]]\n",
        "experiment = IntegerStepMarkovChain(1,1000,transitionMatrix)\n",
        "\n",
        "#Plotting the experimental outcome\n",
        "plt.hist(experiment, bins=range(1,12,1), rwidth=0.9, align='left', alpha=0.5, color='blue', edgecolor='black')\n",
        "plt.xticks(range(1,11,1),range(1,11,1))\n",
        "plt.xlabel(\"Integer drawn\")\n",
        "plt.ylabel(\"Number of times drawn\")\n",
        "plt.show()\n",
        "\n",
        "#Computing the average value\n",
        "print(sum(experiment)/len(experiment)) #The average comes out pretty close to the expected (1+2+..+10)/10 = 5.5 value.\n"
      ],
      "metadata": {
        "colab": {
          "base_uri": "https://localhost:8080/",
          "height": 471
        },
        "id": "dXRuOtuFjYo1",
        "outputId": "ddbff02d-4b63-492b-f217-1c4c25ac317c"
      },
      "execution_count": null,
      "outputs": [
        {
          "output_type": "display_data",
          "data": {
            "text/plain": [
              "<Figure size 640x480 with 1 Axes>"
            ],
            "image/png": "[encoded data removed]"
          },
          "metadata": {}
        },
        {
          "output_type": "stream",
          "name": "stdout",
          "text": [
            "5.310689310689311\n"
          ]
        }
      ]
    }
  ]
}